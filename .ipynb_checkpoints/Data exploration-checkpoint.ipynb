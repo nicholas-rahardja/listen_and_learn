{
 "cells": [
  {
   "cell_type": "code",
   "execution_count": 1,
   "metadata": {},
   "outputs": [],
   "source": [
    "import spotipy\n",
    "import numpy as np\n",
    "from spotipy.oauth2 import SpotifyClientCredentials"
   ]
  },
  {
   "cell_type": "code",
   "execution_count": 2,
   "metadata": {},
   "outputs": [],
   "source": [
    "sp = spotipy.Spotify(auth_manager=SpotifyClientCredentials(client_id=\"c0c231a63aff41459ff8db2c552830d2\",\n",
    "                                                           client_secret=\"ca92f9689fd745219c252148f81f4ac2\"))"
   ]
  },
  {
   "cell_type": "code",
   "execution_count": 3,
   "metadata": {},
   "outputs": [],
   "source": [
    "# GET ALL SHOWS\n",
    "\n",
    "shows = dict()\n",
    "vowels = ['a', 'e', 'i', 'o', 'u']\n",
    "\n",
    "for vowel in vowels:\n",
    "    offset = 0\n",
    "    current_iteration = 0\n",
    "    remaining_iterations = 1\n",
    "    while ((offset <= 350) and (current_iteration <= remaining_iterations)):\n",
    "        try: \n",
    "            results = sp.search(q=vowel, type='show', market='US', limit=50, offset=offset)\n",
    "        except:\n",
    "            continue\n",
    "\n",
    "        shows_response = results['shows']['items']\n",
    "        shows_remaining = results['shows']['total']\n",
    "\n",
    "        for show in shows_response:\n",
    "            new_show = {\n",
    "                \"id\": show['id'],\n",
    "                \"name\": show['name'],\n",
    "                \"description\": show['description'],\n",
    "                \"languages\": show['languages']\n",
    "            }\n",
    "            shows[new_show['id']] = new_show\n",
    "\n",
    "        remaining_iterations = shows_remaining // 50\n",
    "        current_iteration += 1\n",
    "        offset += 50\n",
    "\n",
    "np.save('shows.npy', shows) "
   ]
  },
  {
   "cell_type": "code",
   "execution_count": 4,
   "metadata": {},
   "outputs": [
    {
     "name": "stdout",
     "output_type": "stream",
     "text": [
      "1973\n"
     ]
    }
   ],
   "source": [
    "print(len(shows))"
   ]
  },
  {
   "cell_type": "code",
   "execution_count": 5,
   "metadata": {},
   "outputs": [],
   "source": [
    "# GET ALL EPISODES\n",
    "\n",
    "episodes = dict()\n",
    "\n",
    "for show_id in shows.keys():\n",
    "    try: \n",
    "        results = sp.show_episodes(show_id, limit=50, offset=offset, market='US')\n",
    "    except:\n",
    "        continue\n",
    "\n",
    "    episode_items = results['items']\n",
    "    for episode in episode_items:\n",
    "        \n",
    "        new_episode = {\n",
    "            \"id\": episode['id'],\n",
    "            \"show_id\": show_id,\n",
    "            \"name\": episode['name'],\n",
    "            \"description\": episode['description'],\n",
    "            \"release_date\": episode['release_date'],\n",
    "            \"duration_ms\": episode['duration_ms'],\n",
    "            \"languages\": episode['languages']\n",
    "        }\n",
    "        episodes[episode['id']] = new_episode\n",
    "\n",
    "np.save('episodes.npy', shows) "
   ]
  },
  {
   "cell_type": "code",
   "execution_count": 6,
   "metadata": {},
   "outputs": [
    {
     "name": "stdout",
     "output_type": "stream",
     "text": [
      "2054\n"
     ]
    }
   ],
   "source": [
    "print(len(episodes))"
   ]
  },
  {
   "cell_type": "code",
   "execution_count": 7,
   "metadata": {},
   "outputs": [],
   "source": [
    "# shows = np.load('shows.npy',allow_pickle='TRUE').item()\n",
    "# episodes = np.load('episodes.npy',allow_pickle='TRUE').item()"
   ]
  },
  {
   "cell_type": "code",
   "execution_count": null,
   "metadata": {},
   "outputs": [],
   "source": []
  }
 ],
 "metadata": {
  "kernelspec": {
   "display_name": "venv",
   "language": "python",
   "name": "venv"
  },
  "language_info": {
   "codemirror_mode": {
    "name": "ipython",
    "version": 3
   },
   "file_extension": ".py",
   "mimetype": "text/x-python",
   "name": "python",
   "nbconvert_exporter": "python",
   "pygments_lexer": "ipython3",
   "version": "3.7.6"
  }
 },
 "nbformat": 4,
 "nbformat_minor": 4
}
