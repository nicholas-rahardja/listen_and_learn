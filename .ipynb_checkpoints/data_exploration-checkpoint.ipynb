{
 "cells": [
  {
   "cell_type": "code",
   "execution_count": 1,
   "metadata": {},
   "outputs": [],
   "source": [
    "import collections\n",
    "import numpy as np\n",
    "import pandas as pd\n",
    "import matplotlib.pyplot as plt"
   ]
  },
  {
   "cell_type": "code",
   "execution_count": 3,
   "metadata": {},
   "outputs": [],
   "source": [
    "shows = np.load('data/shows.npy',allow_pickle='TRUE').item()\n",
    "episodes = np.load('data/episodes.npy',allow_pickle='TRUE').item()"
   ]
  },
  {
   "cell_type": "markdown",
   "metadata": {},
   "source": [
    "#### Shows Table"
   ]
  },
  {
   "cell_type": "code",
   "execution_count": 4,
   "metadata": {
    "scrolled": true
   },
   "outputs": [
    {
     "name": "stdout",
     "output_type": "stream",
     "text": [
      "number of shows: 660\n"
     ]
    },
    {
     "data": {
      "text/html": [
       "<div>\n",
       "<style scoped>\n",
       "    .dataframe tbody tr th:only-of-type {\n",
       "        vertical-align: middle;\n",
       "    }\n",
       "\n",
       "    .dataframe tbody tr th {\n",
       "        vertical-align: top;\n",
       "    }\n",
       "\n",
       "    .dataframe thead th {\n",
       "        text-align: right;\n",
       "    }\n",
       "</style>\n",
       "<table border=\"1\" class=\"dataframe\">\n",
       "  <thead>\n",
       "    <tr style=\"text-align: right;\">\n",
       "      <th></th>\n",
       "      <th>id</th>\n",
       "      <th>name</th>\n",
       "      <th>description</th>\n",
       "      <th>genre</th>\n",
       "      <th>languages</th>\n",
       "      <th>publisher</th>\n",
       "      <th>show_rank</th>\n",
       "    </tr>\n",
       "  </thead>\n",
       "  <tbody>\n",
       "    <tr>\n",
       "      <th>0</th>\n",
       "      <td>7jTAf1Cv2OpqdGoBhIhaq2</td>\n",
       "      <td>This Filipino American Life</td>\n",
       "      <td>A podcast that explores the nuanced experience...</td>\n",
       "      <td>stories</td>\n",
       "      <td>[en]</td>\n",
       "      <td>This Filipino American Life</td>\n",
       "      <td>10</td>\n",
       "    </tr>\n",
       "    <tr>\n",
       "      <th>1</th>\n",
       "      <td>20Gf4IAauFrfj7RBkjcWxh</td>\n",
       "      <td>Hidden Brain</td>\n",
       "      <td>Shankar Vedantam uses science and storytelling...</td>\n",
       "      <td>science</td>\n",
       "      <td>[en]</td>\n",
       "      <td>Hidden Brain</td>\n",
       "      <td>4</td>\n",
       "    </tr>\n",
       "    <tr>\n",
       "      <th>2</th>\n",
       "      <td>2b025hq3gJ17tQdxS3aV43</td>\n",
       "      <td>Dissect</td>\n",
       "      <td>Learn more about the albums you love with Diss...</td>\n",
       "      <td>music</td>\n",
       "      <td>[en]</td>\n",
       "      <td>Spotify Studios</td>\n",
       "      <td>3</td>\n",
       "    </tr>\n",
       "    <tr>\n",
       "      <th>3</th>\n",
       "      <td>6L47MDMO3xuN2XBed7miEI</td>\n",
       "      <td>WTF with Marc Maron Podcast</td>\n",
       "      <td>Marc Maron welcomes comedians, actors, directo...</td>\n",
       "      <td>tv film</td>\n",
       "      <td>[en]</td>\n",
       "      <td>Marc Maron</td>\n",
       "      <td>4</td>\n",
       "    </tr>\n",
       "    <tr>\n",
       "      <th>4</th>\n",
       "      <td>5pwBAjuJJAOt7cED5Lkjnk</td>\n",
       "      <td>The Magnus Archives</td>\n",
       "      <td>“Make your statement, face your fear.” A weekl...</td>\n",
       "      <td>stories</td>\n",
       "      <td>[en]</td>\n",
       "      <td>Rusty Quill</td>\n",
       "      <td>9</td>\n",
       "    </tr>\n",
       "  </tbody>\n",
       "</table>\n",
       "</div>"
      ],
      "text/plain": [
       "                       id                         name  \\\n",
       "0  7jTAf1Cv2OpqdGoBhIhaq2  This Filipino American Life   \n",
       "1  20Gf4IAauFrfj7RBkjcWxh                 Hidden Brain   \n",
       "2  2b025hq3gJ17tQdxS3aV43                      Dissect   \n",
       "3  6L47MDMO3xuN2XBed7miEI  WTF with Marc Maron Podcast   \n",
       "4  5pwBAjuJJAOt7cED5Lkjnk          The Magnus Archives   \n",
       "\n",
       "                                         description    genre languages  \\\n",
       "0  A podcast that explores the nuanced experience...  stories      [en]   \n",
       "1  Shankar Vedantam uses science and storytelling...  science      [en]   \n",
       "2  Learn more about the albums you love with Diss...    music      [en]   \n",
       "3  Marc Maron welcomes comedians, actors, directo...  tv film      [en]   \n",
       "4  “Make your statement, face your fear.” A weekl...  stories      [en]   \n",
       "\n",
       "                     publisher show_rank  \n",
       "0  This Filipino American Life        10  \n",
       "1                 Hidden Brain         4  \n",
       "2              Spotify Studios         3  \n",
       "3                   Marc Maron         4  \n",
       "4                  Rusty Quill         9  "
      ]
     },
     "execution_count": 4,
     "metadata": {},
     "output_type": "execute_result"
    }
   ],
   "source": [
    "shows_df = pd.DataFrame(list(shows.values()))\n",
    "print(\"number of shows: {}\".format(shows_df.shape[0]))\n",
    "shows_df.head()"
   ]
  },
  {
   "cell_type": "code",
   "execution_count": 5,
   "metadata": {},
   "outputs": [
    {
     "name": "stdout",
     "output_type": "stream",
     "text": [
      "number of episodes: 28033\n"
     ]
    },
    {
     "data": {
      "text/html": [
       "<div>\n",
       "<style scoped>\n",
       "    .dataframe tbody tr th:only-of-type {\n",
       "        vertical-align: middle;\n",
       "    }\n",
       "\n",
       "    .dataframe tbody tr th {\n",
       "        vertical-align: top;\n",
       "    }\n",
       "\n",
       "    .dataframe thead th {\n",
       "        text-align: right;\n",
       "    }\n",
       "</style>\n",
       "<table border=\"1\" class=\"dataframe\">\n",
       "  <thead>\n",
       "    <tr style=\"text-align: right;\">\n",
       "      <th></th>\n",
       "      <th>id</th>\n",
       "      <th>show_id</th>\n",
       "      <th>name</th>\n",
       "      <th>description</th>\n",
       "      <th>duration_ms</th>\n",
       "      <th>genre</th>\n",
       "      <th>publisher</th>\n",
       "      <th>release_date</th>\n",
       "      <th>show_rank</th>\n",
       "    </tr>\n",
       "  </thead>\n",
       "  <tbody>\n",
       "    <tr>\n",
       "      <th>0</th>\n",
       "      <td>4KQOEGvYZW6R0nE2iJ2Nvo</td>\n",
       "      <td>7jTAf1Cv2OpqdGoBhIhaq2</td>\n",
       "      <td>Episode 140 – The Good (Ha) Place – TFAL Think...</td>\n",
       "      <td>So… there’s a lot going on in the world.  A lo...</td>\n",
       "      <td>4018208</td>\n",
       "      <td>stories</td>\n",
       "      <td>This Filipino American Life</td>\n",
       "      <td>2021-04-09</td>\n",
       "      <td>10</td>\n",
       "    </tr>\n",
       "    <tr>\n",
       "      <th>1</th>\n",
       "      <td>5X27Pky2tcHBe2QkKhSC2p</td>\n",
       "      <td>7jTAf1Cv2OpqdGoBhIhaq2</td>\n",
       "      <td>Episode 139 – Cleaming the Gube: TV Writing wi...</td>\n",
       "      <td>Have you ever wondered what it would be like t...</td>\n",
       "      <td>4842813</td>\n",
       "      <td>stories</td>\n",
       "      <td>This Filipino American Life</td>\n",
       "      <td>2021-03-26</td>\n",
       "      <td>10</td>\n",
       "    </tr>\n",
       "    <tr>\n",
       "      <th>2</th>\n",
       "      <td>3KJIuQlW6hQ0nytqhL3Ec5</td>\n",
       "      <td>7jTAf1Cv2OpqdGoBhIhaq2</td>\n",
       "      <td>Episode 138 – A Year of COVID 19: A Conversati...</td>\n",
       "      <td>It’s been one year since most of the United St...</td>\n",
       "      <td>4180502</td>\n",
       "      <td>stories</td>\n",
       "      <td>This Filipino American Life</td>\n",
       "      <td>2021-03-05</td>\n",
       "      <td>10</td>\n",
       "    </tr>\n",
       "    <tr>\n",
       "      <th>3</th>\n",
       "      <td>5V4BRPNBFRXmNXoUuYZ4KG</td>\n",
       "      <td>7jTAf1Cv2OpqdGoBhIhaq2</td>\n",
       "      <td>Episode 137 – tFalling in Love: TFAL Talks Val...</td>\n",
       "      <td>Roses are red. Violets are blue. These brown h...</td>\n",
       "      <td>3191979</td>\n",
       "      <td>stories</td>\n",
       "      <td>This Filipino American Life</td>\n",
       "      <td>2021-02-19</td>\n",
       "      <td>10</td>\n",
       "    </tr>\n",
       "    <tr>\n",
       "      <th>4</th>\n",
       "      <td>06zMNXHLCjkC6NRPolREQn</td>\n",
       "      <td>7jTAf1Cv2OpqdGoBhIhaq2</td>\n",
       "      <td>Episode 136 – A Good Death: A Conversation wit...</td>\n",
       "      <td>2020 will go down in history as one of the mos...</td>\n",
       "      <td>4264504</td>\n",
       "      <td>stories</td>\n",
       "      <td>This Filipino American Life</td>\n",
       "      <td>2021-02-04</td>\n",
       "      <td>10</td>\n",
       "    </tr>\n",
       "  </tbody>\n",
       "</table>\n",
       "</div>"
      ],
      "text/plain": [
       "                       id                 show_id  \\\n",
       "0  4KQOEGvYZW6R0nE2iJ2Nvo  7jTAf1Cv2OpqdGoBhIhaq2   \n",
       "1  5X27Pky2tcHBe2QkKhSC2p  7jTAf1Cv2OpqdGoBhIhaq2   \n",
       "2  3KJIuQlW6hQ0nytqhL3Ec5  7jTAf1Cv2OpqdGoBhIhaq2   \n",
       "3  5V4BRPNBFRXmNXoUuYZ4KG  7jTAf1Cv2OpqdGoBhIhaq2   \n",
       "4  06zMNXHLCjkC6NRPolREQn  7jTAf1Cv2OpqdGoBhIhaq2   \n",
       "\n",
       "                                                name  \\\n",
       "0  Episode 140 – The Good (Ha) Place – TFAL Think...   \n",
       "1  Episode 139 – Cleaming the Gube: TV Writing wi...   \n",
       "2  Episode 138 – A Year of COVID 19: A Conversati...   \n",
       "3  Episode 137 – tFalling in Love: TFAL Talks Val...   \n",
       "4  Episode 136 – A Good Death: A Conversation wit...   \n",
       "\n",
       "                                         description  duration_ms    genre  \\\n",
       "0  So… there’s a lot going on in the world.  A lo...      4018208  stories   \n",
       "1  Have you ever wondered what it would be like t...      4842813  stories   \n",
       "2  It’s been one year since most of the United St...      4180502  stories   \n",
       "3  Roses are red. Violets are blue. These brown h...      3191979  stories   \n",
       "4  2020 will go down in history as one of the mos...      4264504  stories   \n",
       "\n",
       "                     publisher release_date show_rank  \n",
       "0  This Filipino American Life   2021-04-09        10  \n",
       "1  This Filipino American Life   2021-03-26        10  \n",
       "2  This Filipino American Life   2021-03-05        10  \n",
       "3  This Filipino American Life   2021-02-19        10  \n",
       "4  This Filipino American Life   2021-02-04        10  "
      ]
     },
     "execution_count": 5,
     "metadata": {},
     "output_type": "execute_result"
    }
   ],
   "source": [
    "episodes_df = pd.DataFrame(list(episodes.values()))\n",
    "print(\"number of episodes: {}\".format(episodes_df.shape[0]))\n",
    "episodes_df.head()"
   ]
  },
  {
   "cell_type": "markdown",
   "metadata": {},
   "source": [
    "#### Length of Show and Episode Description Analysis\n"
   ]
  },
  {
   "cell_type": "code",
   "execution_count": 6,
   "metadata": {},
   "outputs": [
    {
     "name": "stdout",
     "output_type": "stream",
     "text": [
      "average length of show description: 365.16515151515154 words\n",
      "average length of episode description: 758.4678771447936 words\n"
     ]
    }
   ],
   "source": [
    "print(\"average length of show description: {} words\".format(np.mean(shows_df['description'].apply(lambda x: len(x)))))\n",
    "print(\"average length of episode description: {} words\".format(np.mean(episodes_df['description'].apply(lambda x: len(x)))))"
   ]
  },
  {
   "cell_type": "code",
   "execution_count": 7,
   "metadata": {
    "scrolled": false
   },
   "outputs": [
    {
     "data": {
      "image/png": "[encoded data removed]",
      "text/plain": [
       "<Figure size 432x288 with 1 Axes>"
      ]
     },
     "metadata": {
      "needs_background": "light"
     },
     "output_type": "display_data"
    }
   ],
   "source": [
    "plt.hist(shows_df['description'].apply(lambda x: len(x)), range=(0,1500), bins=15)\n",
    "plt.xlabel(\"show description length\")\n",
    "plt.ylabel(\"frequency\")\n",
    "plt.title('Show Description Length Distribution')\n",
    "plt.show()"
   ]
  },
  {
   "cell_type": "code",
   "execution_count": 8,
   "metadata": {
    "scrolled": false
   },
   "outputs": [
    {
     "data": {
      "image/png": "[encoded data removed]",
      "text/plain": [
       "<Figure size 432x288 with 1 Axes>"
      ]
     },
     "metadata": {
      "needs_background": "light"
     },
     "output_type": "display_data"
    }
   ],
   "source": [
    "plt.hist(episodes_df['description'].apply(lambda x: len(x)),range=(0,4000),bins=20)\n",
    "plt.xlabel(\"episodes description length\")\n",
    "plt.ylabel(\"frequency\")\n",
    "plt.title('Episodes Description Length Distribution')\n",
    "plt.show()"
   ]
  },
  {
   "cell_type": "markdown",
   "metadata": {},
   "source": [
    "#### Episode and Show Description Character Usage Analysis "
   ]
  },
  {
   "cell_type": "code",
   "execution_count": 9,
   "metadata": {
    "scrolled": true
   },
   "outputs": [],
   "source": [
    "import re\n",
    "\n",
    "show_description_tokens = []\n",
    "for description in shows_df['description']:\n",
    "    show_description_tokens+=(re.sub(r'[^a-zA-Z ]+', '', description).split())\n",
    "show_description_tf = collections.Counter(show_description_tokens)\n",
    "\n",
    "episode_description_tokens = []\n",
    "for description in episodes_df['description']:\n",
    "    episode_description_tokens+=(re.sub(r'[^a-zA-Z ]+', '', description).split())\n",
    "episode_description_tf = collections.Counter(episode_description_tokens)"
   ]
  },
  {
   "cell_type": "code",
   "execution_count": 10,
   "metadata": {
    "scrolled": true
   },
   "outputs": [
    {
     "name": "stdout",
     "output_type": "stream",
     "text": [
      "Top 10 most frequent words and their term frequencies in show description: \n",
      "\n",
      "'and', term frequency: 1759\n",
      "'the', term frequency: 1578\n",
      "'to', term frequency: 890\n",
      "'of', term frequency: 883\n",
      "'a', term frequency: 719\n",
      "'in', term frequency: 451\n",
      "'you', term frequency: 439\n",
      "'is', term frequency: 374\n",
      "'with', term frequency: 329\n",
      "'for', term frequency: 314\n",
      "\n",
      "\n",
      "Top 10 least frequent words and their term frequencies in show description: \n",
      "\n",
      "'Filipinos', term frequency: 1\n",
      "'atbp', term frequency: 1\n",
      "'Shankar', term frequency: 1\n",
      "'Vedantam', term frequency: 1\n",
      "'uses', term frequency: 1\n",
      "'unconscious', term frequency: 1\n",
      "'drive', term frequency: 1\n",
      "'Analyzing', term frequency: 1\n",
      "'Kanye', term frequency: 1\n",
      "'Wests', term frequency: 1\n"
     ]
    }
   ],
   "source": [
    "print(\"Top 10 most frequent words and their term frequencies in show description: \\n\")\n",
    "for word, score in sorted(show_description_tf.items(),key = lambda x: x[1],reverse=True)[:10]:\n",
    "    print(\"'{}', term frequency: {}\".format(word,score))\n",
    "\n",
    "print(\"\\n\")\n",
    "print(\"Top 10 least frequent words and their term frequencies in show description: \\n\")\n",
    "for word, score in sorted(show_description_tf.items(),key = lambda x: x[1])[:10]:\n",
    "    print(\"'{}', term frequency: {}\".format(word,score))\n",
    "\n",
    "\n",
    "\n"
   ]
  },
  {
   "cell_type": "code",
   "execution_count": 11,
   "metadata": {
    "scrolled": true
   },
   "outputs": [
    {
     "name": "stdout",
     "output_type": "stream",
     "text": [
      "\n",
      "\n",
      "Top 10 most frequent words and their term frequencies in episode description: \n",
      "\n",
      "'the', term frequency: 113258\n",
      "'and', term frequency: 97176\n",
      "'to', term frequency: 79409\n",
      "'of', term frequency: 64773\n",
      "'a', term frequency: 56029\n",
      "'in', term frequency: 35287\n",
      "'for', term frequency: 33297\n",
      "'on', term frequency: 29408\n",
      "'is', term frequency: 27356\n",
      "'you', term frequency: 24250\n",
      "\n",
      "\n",
      "Top 10 least frequent words and their term frequencies in episode description: \n",
      "\n",
      "'Gube', term frequency: 1\n",
      "'kababayan', term frequency: 1\n",
      "'Violets', term frequency: 1\n",
      "'choo', term frequency: 1\n",
      "'Wellsort', term frequency: 1\n",
      "'auf', term frequency: 1\n",
      "'wiedersehen', term frequency: 1\n",
      "'Banaue', term frequency: 1\n",
      "'Terraces', term frequency: 1\n",
      "'Migrations', term frequency: 1\n"
     ]
    }
   ],
   "source": [
    "print(\"\\n\")\n",
    "print(\"Top 10 most frequent words and their term frequencies in episode description: \\n\")\n",
    "for word, score in sorted(episode_description_tf.items(),key = lambda x: x[1],reverse=True)[:10]:\n",
    "    print(\"'{}', term frequency: {}\".format(word,score)) \n",
    "\n",
    "print(\"\\n\")\n",
    "print(\"Top 10 least frequent words and their term frequencies in episode description: \\n\")\n",
    "for word, score in sorted(episode_description_tf.items(),key = lambda x: x[1])[:10]:\n",
    "    print(\"'{}', term frequency: {}\".format(word,score)) "
   ]
  },
  {
   "cell_type": "markdown",
   "metadata": {},
   "source": [
    "#### Episode Lenght Analysis"
   ]
  },
  {
   "cell_type": "code",
   "execution_count": 12,
   "metadata": {},
   "outputs": [
    {
     "name": "stdout",
     "output_type": "stream",
     "text": [
      "Mean duration of episodes: 3296457.90 milliseconds\n",
      "Mean duration of episodes: 3296.46 seconds\n",
      "Mean duration of episodes: 54.94 minutes\n"
     ]
    }
   ],
   "source": [
    "print(\"Mean duration of episodes: {:.2f} milliseconds\".format(episodes_df['duration_ms'].mean()))\n",
    "print(\"Mean duration of episodes: {:.2f} seconds\".format(episodes_df['duration_ms'].mean()/1000))\n",
    "print(\"Mean duration of episodes: {:.2f} minutes\".format(episodes_df['duration_ms'].mean()/60000))"
   ]
  },
  {
   "cell_type": "code",
   "execution_count": 13,
   "metadata": {},
   "outputs": [
    {
     "data": {
      "image/png": "[encoded data removed]",
      "text/plain": [
       "<Figure size 432x288 with 1 Axes>"
      ]
     },
     "metadata": {
      "needs_background": "light"
     },
     "output_type": "display_data"
    }
   ],
   "source": [
    "plt.hist(episodes_df['duration_ms']/60000,range=(0,200),bins=20)\n",
    "plt.xlabel(\"episode duration (Minutes)\")\n",
    "plt.ylabel(\"frequency\")\n",
    "plt.title(\"Episode Duration Distribution\")\n",
    "plt.show()"
   ]
  },
  {
   "cell_type": "markdown",
   "metadata": {},
   "source": [
    "#### Show Language Distribution "
   ]
  },
  {
   "cell_type": "code",
   "execution_count": 14,
   "metadata": {},
   "outputs": [
    {
     "name": "stdout",
     "output_type": "stream",
     "text": [
      "Most used languages in the shows\n"
     ]
    },
    {
     "data": {
      "text/plain": [
       "en       591\n",
       "en-US     69\n",
       "Name: languages, dtype: int64"
      ]
     },
     "metadata": {},
     "output_type": "display_data"
    }
   ],
   "source": [
    "print(\"Most used languages in the shows\")\n",
    "display(shows_df['languages'].apply(lambda x: x[0]).value_counts())"
   ]
  },
  {
   "cell_type": "markdown",
   "metadata": {},
   "source": [
    "#### Shows and Episodes Analysis "
   ]
  },
  {
   "cell_type": "code",
   "execution_count": 15,
   "metadata": {},
   "outputs": [
    {
     "name": "stdout",
     "output_type": "stream",
     "text": [
      "10 shows with the most episodes: \n",
      "\n",
      "1)  The No Good Podcast \n",
      "2) Stuff You Should Know\n",
      "3) Story time with Philip and Mommy! \n",
      "4) Storytime with Olivia\n",
      "5) Storytime with Tula Jane and her Mother In The Wild\n",
      "6) Stuff They Don't Want You To Know\n",
      "7) Stuff To Blow Your Mind\n",
      "8) Stuff You Missed in History Class\n",
      "9) Super Soul\n",
      "10) Story Pirates\n"
     ]
    }
   ],
   "source": [
    "print(\"10 shows with the most episodes: \\n\")\n",
    "show_episode_df = episodes_df.merge(shows_df, left_on=\"show_id\",right_on=\"id\")\n",
    "for i,show in enumerate(show_episode_df.groupby('name_y').count()['id_x'].sort_values(ascending=False)[0:10].index):\n",
    "    print(\"{}) {}\".format(i+1, show)) "
   ]
  },
  {
   "cell_type": "code",
   "execution_count": null,
   "metadata": {},
   "outputs": [],
   "source": []
  }
 ],
 "metadata": {
  "kernelspec": {
   "display_name": "venv",
   "language": "python",
   "name": "venv"
  },
  "language_info": {
   "codemirror_mode": {
    "name": "ipython",
    "version": 3
   },
   "file_extension": ".py",
   "mimetype": "text/x-python",
   "name": "python",
   "nbconvert_exporter": "python",
   "pygments_lexer": "ipython3",
   "version": "3.7.6"
  }
 },
 "nbformat": 4,
 "nbformat_minor": 4
}
