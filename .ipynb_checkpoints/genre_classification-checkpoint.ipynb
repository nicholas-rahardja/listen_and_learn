{
 "cells": [
  {
   "cell_type": "code",
   "execution_count": 1,
   "id": "2987f55a",
   "metadata": {},
   "outputs": [],
   "source": [
    "import numpy as np\n",
    "from sklearn.naive_bayes import GaussianNB\n",
    "from sklearn.feature_extraction.text import CountVectorizer\n",
    "import pickle\n",
    "import json\n",
    "import base64"
   ]
  },
  {
   "cell_type": "code",
   "execution_count": 28,
   "id": "d72db8bc",
   "metadata": {},
   "outputs": [],
   "source": [
    "with open(\"episodes.json\") as f:\n",
    "    episodes = json.load(f)\n",
    "with open(\"episode_id_to_idx.json\") as f:\n",
    "    episode_id_to_idx = json.load(f)\n",
    "with open(\"genre_to_episodes.json\") as f:\n",
    "    genre_to_episodes = json.load(f)\n",
    "with open(\"tf_idf_description.json\") as f:\n",
    "    tf_idf_desc_vectors = json.load(f, object_hook=json_numpy_obj_hook, encoding='utf8')\n",
    "with open(\"idf_description.json\") as f:\n",
    "    idf_description = json.load(f, object_hook=json_numpy_obj_hook, encoding='utf8')\n",
    "with open(\"terms_description.json\") as f:\n",
    "    terms_description = json.load(f)"
   ]
  },
  {
   "cell_type": "code",
   "execution_count": 3,
   "id": "be3d4194",
   "metadata": {},
   "outputs": [],
   "source": [
    "def json_numpy_obj_hook(dct):\n",
    "    \"\"\"Decodes a previously encoded numpy ndarray with proper shape and dtype.\n",
    "    :param dct: (dict) json encoded ndarray\n",
    "    :return: (ndarray) if input was an encoded ndarray\n",
    "    \"\"\"\n",
    "    if isinstance(dct, dict) and '__ndarray__' in dct:\n",
    "        data = base64.b64decode(dct['__ndarray__'])\n",
    "        return np.frombuffer(data, dct['dtype']).reshape(dct['shape'])\n",
    "    return dct"
   ]
  },
  {
   "cell_type": "code",
   "execution_count": 43,
   "id": "6f2f26de",
   "metadata": {},
   "outputs": [
    {
     "name": "stdout",
     "output_type": "stream",
     "text": [
      "{'Arts & Entertainment': 0, 'Business & Technology': 1, 'Comedy': 2, 'True & Crime': 3, 'Stories': 4, 'Educational': 5, 'Fiction': 6, 'Kids & Family': 7, 'Games': 8, 'Leisure': 9, 'Lifestyle & Health': 10, 'History': 11, 'Music': 12, 'News & Politics': 13, 'Religion & Spirituality': 14, 'Science': 15, 'Society & Culture': 16, 'Sports & Recreation': 17, 'Tv & Film': 18, 'Technology': 19}\n"
     ]
    }
   ],
   "source": [
    "genre_to_idx = {genre: g for g, genre in enumerate(genre_to_episodes.keys())}\n",
    "print(genre_to_idx)"
   ]
  },
  {
   "cell_type": "code",
   "execution_count": 32,
   "id": "80b560a5",
   "metadata": {},
   "outputs": [],
   "source": [
    "# Create dataset\n",
    "X = []\n",
    "Y = []\n",
    "for (episode_id, episode) in episodes.items():\n",
    "    if len(episode[\"genres\"]) == 1:\n",
    "        X.append(tf_idf_desc_vectors[episode_id_to_idx[episode_id]])\n",
    "        Y.append(genre_to_idx[episode[\"genres\"][0]])\n",
    "X = np.array(X)\n",
    "Y = np.array(Y)"
   ]
  },
  {
   "cell_type": "code",
   "execution_count": 33,
   "id": "f6002ee6",
   "metadata": {},
   "outputs": [
    {
     "name": "stdout",
     "output_type": "stream",
     "text": [
      "(1103, 13715)\n",
      "(1103,)\n"
     ]
    }
   ],
   "source": [
    "print(X.shape)\n",
    "print(Y.shape)"
   ]
  },
  {
   "cell_type": "code",
   "execution_count": 34,
   "id": "e5dbb421",
   "metadata": {},
   "outputs": [],
   "source": [
    "gnb = GaussianNB()\n",
    "model = gnb.fit(X, Y)\n",
    "pickle.dump(model, open(\"genre_classification_model.sav\", 'wb'))"
   ]
  },
  {
   "cell_type": "code",
   "execution_count": 42,
   "id": "0cf94788",
   "metadata": {},
   "outputs": [
    {
     "name": "stdout",
     "output_type": "stream",
     "text": [
      "[16]\n",
      "Society & Culture\n"
     ]
    }
   ],
   "source": [
    "loaded_model = pickle.load(open(\"genre_classification_model.sav\", 'rb'))\n",
    "episode_desc_vectorizer = CountVectorizer(vocabulary=terms_description)\n",
    "query_vec = episode_desc_vectorizer.fit_transform([\"american toad\"]).toarray().flatten()\n",
    "query_tf_idf = query_vec*idf_description[np.newaxis, :]\n",
    "prediction = loaded_model.predict(query_tf_idf)\n",
    "print(list(genre_to_idx)[prediction[0]])"
   ]
  },
  {
   "cell_type": "code",
   "execution_count": null,
   "id": "ec8785ca",
   "metadata": {},
   "outputs": [],
   "source": []
  }
 ],
 "metadata": {
  "kernelspec": {
   "display_name": "Python 3",
   "language": "python",
   "name": "python3"
  },
  "language_info": {
   "codemirror_mode": {
    "name": "ipython",
    "version": 3
   },
   "file_extension": ".py",
   "mimetype": "text/x-python",
   "name": "python",
   "nbconvert_exporter": "python",
   "pygments_lexer": "ipython3",
   "version": "3.7.6"
  }
 },
 "nbformat": 4,
 "nbformat_minor": 5
}
